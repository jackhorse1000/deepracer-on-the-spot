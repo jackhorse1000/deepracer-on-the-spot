{
 "cells": [
  {
   "cell_type": "code",
   "execution_count": 1,
   "metadata": {},
   "outputs": [],
   "source": [
    "from collections import defaultdict\n",
    "from pprint import pprint\n",
    "import re\n",
    "\n",
    "            "
   ]
  },
  {
   "cell_type": "code",
   "execution_count": 2,
   "metadata": {},
   "outputs": [],
   "source": [
    "def remove_numbers_from_line(line):\n",
    "    return re.sub(r'\\d+', '', line)\n",
    "    "
   ]
  },
  {
   "cell_type": "code",
   "execution_count": 3,
   "metadata": {},
   "outputs": [],
   "source": [
    "unforgivable_action = defaultdict(int)\n",
    "filename = \"../../logs/jack-v3-ob-m4-4/deepracer-0_robomaker.1.wqtjsviihfnlrntbb4xcvmfd0.log\"\n",
    "\n",
    "with open(filename, 'r') as file:\n",
    "    for line in file:\n",
    "        line = line.lower()\n",
    "        if line.startswith(\"unforgivable action\"):\n",
    "            line = remove_numbers_from_line(line)\n",
    "            unforgivable_action[line] += 1"
   ]
  },
  {
   "cell_type": "code",
   "execution_count": 4,
   "metadata": {},
   "outputs": [
    {
     "name": "stdout",
     "output_type": "stream",
     "text": [
      "defaultdict(<class 'int'>,\n",
      "            {'unforgivable action all_wheels_on_track = false\\n': 18456,\n",
      "             'unforgivable action distance from racing line . > .\\n': 65233,\n",
      "             'unforgivable action racing direction . > \\n': 4380,\n",
      "             'unforgivable action speed difference . > .\\n': 18408,\n",
      "             'unforgivable action speed difference on straight . > .\\n': 10528,\n",
      "             'unforgivable action speed difference on turn -. < -.\\n': 25465,\n",
      "             'unforgivable action. should turn left. action is right. %f angle diff, %f steering angle . -.\\n': 802,\n",
      "             'unforgivable action. should turn right. action is left. %f angle diff, %f steering angle . .\\n': 22842,\n",
      "             'unforgivable action. should turn right. action is left. %f angle diff, %f steering angle .e- .\\n': 1})\n"
     ]
    }
   ],
   "source": [
    "pprint(unforgivable_action)"
   ]
  },
  {
   "cell_type": "code",
   "execution_count": null,
   "metadata": {},
   "outputs": [],
   "source": []
  }
 ],
 "metadata": {
  "kernelspec": {
   "display_name": "Python 3",
   "language": "python",
   "name": "python3"
  },
  "language_info": {
   "codemirror_mode": {
    "name": "ipython",
    "version": 3
   },
   "file_extension": ".py",
   "mimetype": "text/x-python",
   "name": "python",
   "nbconvert_exporter": "python",
   "pygments_lexer": "ipython3",
   "version": "3.9.6"
  },
  "orig_nbformat": 4
 },
 "nbformat": 4,
 "nbformat_minor": 2
}
